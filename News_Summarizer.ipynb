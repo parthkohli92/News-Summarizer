{
  "nbformat": 4,
  "nbformat_minor": 0,
  "metadata": {
    "colab": {
      "name": "News-Summarizer.ipynb",
      "provenance": [],
      "authorship_tag": "ABX9TyOA735LV/iIAU95tFrtv7s3",
      "include_colab_link": true
    },
    "kernelspec": {
      "name": "python3",
      "display_name": "Python 3"
    },
    "language_info": {
      "name": "python"
    }
  },
  "cells": [
    {
      "cell_type": "markdown",
      "metadata": {
        "id": "view-in-github",
        "colab_type": "text"
      },
      "source": [
        "<a href=\"https://colab.research.google.com/github/parthkohli92/News-Summarizer/blob/main/News_Summarizer.ipynb\" target=\"_parent\"><img src=\"https://colab.research.google.com/assets/colab-badge.svg\" alt=\"Open In Colab\"/></a>"
      ]
    },
    {
      "cell_type": "code",
      "execution_count": 2,
      "metadata": {
        "colab": {
          "base_uri": "https://localhost:8080/"
        },
        "id": "kDyQsjzHDer-",
        "outputId": "ce8b269b-906a-411d-8950-c299fb07baab"
      },
      "outputs": [
        {
          "output_type": "stream",
          "name": "stdout",
          "text": [
            "Requirement already satisfied: nltk in /usr/local/lib/python3.7/dist-packages (3.2.5)\n",
            "Requirement already satisfied: six in /usr/local/lib/python3.7/dist-packages (from nltk) (1.15.0)\n",
            "Collecting newspaper3k\n",
            "  Downloading newspaper3k-0.2.8-py3-none-any.whl (211 kB)\n",
            "\u001b[K     |████████████████████████████████| 211 kB 21.6 MB/s \n",
            "\u001b[?25hRequirement already satisfied: Pillow>=3.3.0 in /usr/local/lib/python3.7/dist-packages (from newspaper3k) (7.1.2)\n",
            "Requirement already satisfied: requests>=2.10.0 in /usr/local/lib/python3.7/dist-packages (from newspaper3k) (2.23.0)\n",
            "Collecting jieba3k>=0.35.1\n",
            "  Downloading jieba3k-0.35.1.zip (7.4 MB)\n",
            "\u001b[K     |████████████████████████████████| 7.4 MB 50.4 MB/s \n",
            "\u001b[?25hCollecting tinysegmenter==0.3\n",
            "  Downloading tinysegmenter-0.3.tar.gz (16 kB)\n",
            "Requirement already satisfied: PyYAML>=3.11 in /usr/local/lib/python3.7/dist-packages (from newspaper3k) (3.13)\n",
            "Collecting feedparser>=5.2.1\n",
            "  Downloading feedparser-6.0.8-py3-none-any.whl (81 kB)\n",
            "\u001b[K     |████████████████████████████████| 81 kB 8.0 MB/s \n",
            "\u001b[?25hRequirement already satisfied: python-dateutil>=2.5.3 in /usr/local/lib/python3.7/dist-packages (from newspaper3k) (2.8.2)\n",
            "Requirement already satisfied: nltk>=3.2.1 in /usr/local/lib/python3.7/dist-packages (from newspaper3k) (3.2.5)\n",
            "Requirement already satisfied: lxml>=3.6.0 in /usr/local/lib/python3.7/dist-packages (from newspaper3k) (4.2.6)\n",
            "Collecting cssselect>=0.9.2\n",
            "  Downloading cssselect-1.1.0-py2.py3-none-any.whl (16 kB)\n",
            "Collecting feedfinder2>=0.0.4\n",
            "  Downloading feedfinder2-0.0.4.tar.gz (3.3 kB)\n",
            "Requirement already satisfied: beautifulsoup4>=4.4.1 in /usr/local/lib/python3.7/dist-packages (from newspaper3k) (4.6.3)\n",
            "Collecting tldextract>=2.0.1\n",
            "  Downloading tldextract-3.1.2-py2.py3-none-any.whl (87 kB)\n",
            "\u001b[K     |████████████████████████████████| 87 kB 5.3 MB/s \n",
            "\u001b[?25hRequirement already satisfied: six in /usr/local/lib/python3.7/dist-packages (from feedfinder2>=0.0.4->newspaper3k) (1.15.0)\n",
            "Collecting sgmllib3k\n",
            "  Downloading sgmllib3k-1.0.0.tar.gz (5.8 kB)\n",
            "Requirement already satisfied: urllib3!=1.25.0,!=1.25.1,<1.26,>=1.21.1 in /usr/local/lib/python3.7/dist-packages (from requests>=2.10.0->newspaper3k) (1.24.3)\n",
            "Requirement already satisfied: chardet<4,>=3.0.2 in /usr/local/lib/python3.7/dist-packages (from requests>=2.10.0->newspaper3k) (3.0.4)\n",
            "Requirement already satisfied: certifi>=2017.4.17 in /usr/local/lib/python3.7/dist-packages (from requests>=2.10.0->newspaper3k) (2021.10.8)\n",
            "Requirement already satisfied: idna<3,>=2.5 in /usr/local/lib/python3.7/dist-packages (from requests>=2.10.0->newspaper3k) (2.10)\n",
            "Requirement already satisfied: filelock>=3.0.8 in /usr/local/lib/python3.7/dist-packages (from tldextract>=2.0.1->newspaper3k) (3.4.0)\n",
            "Collecting requests-file>=1.4\n",
            "  Downloading requests_file-1.5.1-py2.py3-none-any.whl (3.7 kB)\n",
            "Building wheels for collected packages: tinysegmenter, feedfinder2, jieba3k, sgmllib3k\n",
            "  Building wheel for tinysegmenter (setup.py) ... \u001b[?25l\u001b[?25hdone\n",
            "  Created wheel for tinysegmenter: filename=tinysegmenter-0.3-py3-none-any.whl size=13552 sha256=a9bb6b0f2aa6ba79c3117c49fe4fb5cf4f91ed35cd711acfe31a74ae82225584\n",
            "  Stored in directory: /root/.cache/pip/wheels/df/67/41/faca10fa501ca010be41b49d40360c2959e1c4f09bcbfa37fa\n",
            "  Building wheel for feedfinder2 (setup.py) ... \u001b[?25l\u001b[?25hdone\n",
            "  Created wheel for feedfinder2: filename=feedfinder2-0.0.4-py3-none-any.whl size=3356 sha256=4ec6bb4a4dafd113c2e092b306601d70ae0b68cfb6fd3563b907d8cc3340f960\n",
            "  Stored in directory: /root/.cache/pip/wheels/7f/d4/8f/6e2ca54744c9d7292d88ddb8d42876bcdab5e6d84a21c10346\n",
            "  Building wheel for jieba3k (setup.py) ... \u001b[?25l\u001b[?25hdone\n",
            "  Created wheel for jieba3k: filename=jieba3k-0.35.1-py3-none-any.whl size=7398405 sha256=130f31efdba58be6fed903bb7ecc733ae0d71c9a7ea9787d5e46322502009f61\n",
            "  Stored in directory: /root/.cache/pip/wheels/4c/91/46/3c208287b726df325a5979574324878b679116e4baae1af3c3\n",
            "  Building wheel for sgmllib3k (setup.py) ... \u001b[?25l\u001b[?25hdone\n",
            "  Created wheel for sgmllib3k: filename=sgmllib3k-1.0.0-py3-none-any.whl size=6065 sha256=dce72753cfed6c14681fb1c9e018d27062d3773ad1ea50eb5975446eb2ea14a9\n",
            "  Stored in directory: /root/.cache/pip/wheels/73/ad/a4/0dff4a6ef231fc0dfa12ffbac2a36cebfdddfe059f50e019aa\n",
            "Successfully built tinysegmenter feedfinder2 jieba3k sgmllib3k\n",
            "Installing collected packages: sgmllib3k, requests-file, tldextract, tinysegmenter, jieba3k, feedparser, feedfinder2, cssselect, newspaper3k\n",
            "Successfully installed cssselect-1.1.0 feedfinder2-0.0.4 feedparser-6.0.8 jieba3k-0.35.1 newspaper3k-0.2.8 requests-file-1.5.1 sgmllib3k-1.0.0 tinysegmenter-0.3 tldextract-3.1.2\n"
          ]
        }
      ],
      "source": [
        "!pip install nltk \n",
        "!pip install newspaper3k"
      ]
    },
    {
      "cell_type": "code",
      "source": [
        "import nltk \n",
        "from newspaper import Article"
      ],
      "metadata": {
        "id": "kqNBZzAtE_Ow"
      },
      "execution_count": 5,
      "outputs": []
    },
    {
      "cell_type": "code",
      "source": [
        "# Get the article \n",
        "url = \"https://timesofindia.indiatimes.com/india/india-reports-over-1-79-lakh-new-covid-cases-146-deaths-omicron-tally-at-4003/articleshow/88801476.cms\"\n",
        "article = Article(url)"
      ],
      "metadata": {
        "id": "mRG-iuSfFS6P"
      },
      "execution_count": 6,
      "outputs": []
    },
    {
      "cell_type": "code",
      "source": [
        "# Applying NLP\n",
        "article.download()\n",
        "article.parse()\n",
        "nltk.download('punkt')\n",
        "article.nlp()"
      ],
      "metadata": {
        "colab": {
          "base_uri": "https://localhost:8080/"
        },
        "id": "D-OLymfYFhHU",
        "outputId": "3c7a3868-9c56-4733-8ef2-840c0692329e"
      },
      "execution_count": 7,
      "outputs": [
        {
          "output_type": "stream",
          "name": "stdout",
          "text": [
            "[nltk_data] Downloading package punkt to /root/nltk_data...\n",
            "[nltk_data]   Unzipping tokenizers/punkt.zip.\n"
          ]
        }
      ]
    },
    {
      "cell_type": "code",
      "source": [
        "# Get the Author of the article\n",
        "article.authors"
      ],
      "metadata": {
        "colab": {
          "base_uri": "https://localhost:8080/"
        },
        "id": "JLR9Z5TpFsFT",
        "outputId": "f74197c5-08b8-4661-a095-ee71b3c53744"
      },
      "execution_count": 9,
      "outputs": [
        {
          "output_type": "execute_result",
          "data": {
            "text/plain": [
              "['Timesofindia.Com']"
            ]
          },
          "metadata": {},
          "execution_count": 9
        }
      ]
    },
    {
      "cell_type": "code",
      "source": [
        "# Get the publish date \n",
        "print(article.publish_date)"
      ],
      "metadata": {
        "colab": {
          "base_uri": "https://localhost:8080/"
        },
        "id": "sZLKOSfxFzIc",
        "outputId": "e3488783-f60b-40ed-ac23-5f6e1a698957"
      },
      "execution_count": 11,
      "outputs": [
        {
          "output_type": "stream",
          "name": "stdout",
          "text": [
            "None\n"
          ]
        }
      ]
    },
    {
      "cell_type": "code",
      "source": [
        "# Get the top image \n",
        "article.top_image"
      ],
      "metadata": {
        "colab": {
          "base_uri": "https://localhost:8080/",
          "height": 35
        },
        "id": "gc-OW_C9F66-",
        "outputId": "4d19d699-203c-4c6d-c904-e89f6197b53f"
      },
      "execution_count": 12,
      "outputs": [
        {
          "output_type": "execute_result",
          "data": {
            "application/vnd.google.colaboratory.intrinsic+json": {
              "type": "string"
            },
            "text/plain": [
              "'https://static.toiimg.com/thumb/msid-88801607,width-1070,height-580,imgsize-72324,resizemode-75,overlay-toi_sw,pt-32,y_pad-40/photo.jpg'"
            ]
          },
          "metadata": {},
          "execution_count": 12
        }
      ]
    },
    {
      "cell_type": "code",
      "source": [
        "# Get the article text \n",
        "print(article.text)"
      ],
      "metadata": {
        "colab": {
          "base_uri": "https://localhost:8080/"
        },
        "id": "ARaENNv-GFz8",
        "outputId": "4f8cf216-3dee-4f28-c990-408ebea13eba"
      },
      "execution_count": 13,
      "outputs": [
        {
          "output_type": "stream",
          "name": "stdout",
          "text": [
            "NEW DELHI: India on Monday reported 1,79,723 new Covid-19 cases, up by 13% from yesterday, while the active cases rose to 7,23,619, according to the Union health ministry data.There are 4,003 Omicron cases in India with 23 states reporting the new Covid-19 strain. Maharashtra continues to be the worst-affected state with 1, 216 cases followed by Delhi, which has 529 infections.The death toll climbed to 4,83,936 with 146 fresh fatalities according to the data updated at 9am.The active cases comprise 2.03 per cent of the total infections, while the national Covid-19 recovery rate is at 96.62 per cent, the health ministry said.46,569 patients have recovered in the last 24 hours and the cumulative tally of recovered patients (since the beginning of the pandemic) is now at 3,45,00,172.The daily positivity rate was recorded at 13.29 per cent.The weekly positivity rate was also recorded at 7.92 per cent, according to the health ministry.The cumulative doses administered in the country so far under the nationwide Covid-19 vaccination drive has exceeded 149.66 crore.India's Covid-19 tally had crossed the 20-lakh mark on August 7, 2020, 30 lakh on August 23, 40 lakh on September 5 and 50 lakh on September 16.It went past 60 lakh on September 28, 70 lakh on October 11, crossed 80 lakh on October 29, 90 lakh on November 20 and surpassed the one-crore mark on December 19.India crossed the grim milestone of two crore on May 4 and three crore on June 23.\n"
          ]
        }
      ]
    },
    {
      "cell_type": "code",
      "source": [
        "# Get the summary of the article \n",
        "print(article.summary)"
      ],
      "metadata": {
        "colab": {
          "base_uri": "https://localhost:8080/"
        },
        "id": "GHNzoOdnGKDw",
        "outputId": "4000bb0a-d077-419b-a7c2-fec1d7f80785"
      },
      "execution_count": 17,
      "outputs": [
        {
          "output_type": "stream",
          "name": "stdout",
          "text": [
            "NEW DELHI: India on Monday reported 1,79,723 new Covid-19 cases, up by 13% from yesterday, while the active cases rose to 7,23,619, according to the Union health ministry data.There are 4,003 Omicron cases in India with 23 states reporting the new Covid-19 strain.\n",
            "Maharashtra continues to be the worst-affected state with 1, 216 cases followed by Delhi, which has 529 infections.The death toll climbed to 4,83,936 with 146 fresh fatalities according to the data updated at 9am.The active cases comprise 2.03 per cent of the total infections, while the national Covid-19 recovery rate is at 96.62 per cent, the health ministry said.46,569 patients have recovered in the last 24 hours and the cumulative tally of recovered patients (since the beginning of the pandemic) is now at 3,45,00,172.The daily positivity rate was recorded at 13.29 per cent.The weekly positivity rate was also recorded at 7.92 per cent, according to the health ministry.The cumulative doses administered in the country so far under the nationwide Covid-19 vaccination drive has exceeded 149.66 crore.India's Covid-19 tally had crossed the 20-lakh mark on August 7, 2020, 30 lakh on August 23, 40 lakh on September 5 and 50 lakh on September 16.It went past 60 lakh on September 28, 70 lakh on October 11, crossed 80 lakh on October 29, 90 lakh on November 20 and surpassed the one-crore mark on December 19.India crossed the grim milestone of two crore on May 4 and three crore on June 23.\n"
          ]
        }
      ]
    },
    {
      "cell_type": "code",
      "source": [
        "article.summary"
      ],
      "metadata": {
        "colab": {
          "base_uri": "https://localhost:8080/",
          "height": 122
        },
        "id": "2WJmxj9QGUeZ",
        "outputId": "1d1d9a7b-a0e9-43ea-dbe1-3088e4c5e716"
      },
      "execution_count": 21,
      "outputs": [
        {
          "output_type": "execute_result",
          "data": {
            "application/vnd.google.colaboratory.intrinsic+json": {
              "type": "string"
            },
            "text/plain": [
              "\"NEW DELHI: India on Monday reported 1,79,723 new Covid-19 cases, up by 13% from yesterday, while the active cases rose to 7,23,619, according to the Union health ministry data.There are 4,003 Omicron cases in India with 23 states reporting the new Covid-19 strain.\\nMaharashtra continues to be the worst-affected state with 1, 216 cases followed by Delhi, which has 529 infections.The death toll climbed to 4,83,936 with 146 fresh fatalities according to the data updated at 9am.The active cases comprise 2.03 per cent of the total infections, while the national Covid-19 recovery rate is at 96.62 per cent, the health ministry said.46,569 patients have recovered in the last 24 hours and the cumulative tally of recovered patients (since the beginning of the pandemic) is now at 3,45,00,172.The daily positivity rate was recorded at 13.29 per cent.The weekly positivity rate was also recorded at 7.92 per cent, according to the health ministry.The cumulative doses administered in the country so far under the nationwide Covid-19 vaccination drive has exceeded 149.66 crore.India's Covid-19 tally had crossed the 20-lakh mark on August 7, 2020, 30 lakh on August 23, 40 lakh on September 5 and 50 lakh on September 16.It went past 60 lakh on September 28, 70 lakh on October 11, crossed 80 lakh on October 29, 90 lakh on November 20 and surpassed the one-crore mark on December 19.India crossed the grim milestone of two crore on May 4 and three crore on June 23.\""
            ]
          },
          "metadata": {},
          "execution_count": 21
        }
      ]
    },
    {
      "cell_type": "code",
      "source": [
        ""
      ],
      "metadata": {
        "id": "STSvy2eAGYPN"
      },
      "execution_count": null,
      "outputs": []
    }
  ]
}